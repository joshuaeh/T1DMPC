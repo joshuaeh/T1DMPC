{
 "cells": [
  {
   "cell_type": "code",
   "execution_count": 1,
   "metadata": {
    "ExecuteTime": {
     "end_time": "2021-04-20T15:23:57.453448Z",
     "start_time": "2021-04-20T15:23:55.071038Z"
    }
   },
   "outputs": [],
   "source": [
    "import numpy as np\n",
    "import time\n",
    "import matplotlib.pyplot as plt\n",
    "import random\n",
    "from datetime import datetime\n",
    "import pandas as pd\n",
    "from gekko import GEKKO\n",
    "df = pd.read_csv('Parsed.csv')\n",
    "BG_dat = df['Blood Glucose (mg/dL)'].values\n",
    "for i in range(len(BG_dat)):\n",
    "    if i==0:\n",
    "        BG_dat[i] = BG_dat[i+1]\n",
    "    elif np.isnan(BG_dat[i]):\n",
    "        BG_dat[i] = BG_dat[i-1]\n",
    "In = int(1440*20)  #index for start time --1440 minutes per day, 540 per 9 hour period\n",
    "\n",
    "# For m in [mhe, sim]\n",
    "#minutes run\n",
    "N = int(180) #minutes in 3 hours\n",
    "h = int(3) #number of time horizons\n",
    "H = int(N*h)\n",
    "dt = 1  # (min) timespacing\n",
    "m = GEKKO()\n",
    "\n",
    "# TODO Find optimal control horizon to account for disturbances especially\n",
    "m.time = np.linspace(0, N, N+1)  # Three hour moving horizon\n",
    "\n",
    "# Params\n",
    "bg = m.Param(291.0, name='bg')  # (mg/dL) Basal Blood Glucose\n",
    "p1 = m.Param(3.17e-2, name='p1')   # (1/min)\n",
    "p2 = m.Param(1.23e-2, name='p2')   # (1/min)\n",
    "# si = m.Param(2.9e-2)    # (1/min * (mL/micro-U))\n",
    "ke = m.Param(9.0e-2)    # (1/min) Insulin elimination from plasma\n",
    "kabs = m.Param(1.2e-2)  # (1/min) t max,G inverse\n",
    "kemp = m.Param(1.8e-1)  # (1/min) t max,I inverse\n",
    "f = m.Param(8.00e-1)    # (L)\n",
    "vi = m.Param(12.0)      # (L)     Insulin distribution volume\n",
    "vg = m.Param(12.0)      # (L)     Glucose distibution volume\n",
    "\n",
    "final = np.zeros_like(m.time)\n",
    "final[-1] = 1\n",
    "fin = m.Param(final)\n",
    "\n",
    "# FV\n",
    "# TODO implement good bounds on these\n",
    "# TODO Bounds on possible levels\n",
    "\n",
    "si = m.FV(2.9e-2, lb=0.01, ub=1)    # (1/min * (mL/micro-U))\n",
    "D  = m.MV(0, lb=0, ub=4000)      # Disturbance (mmol/L min)\n",
    "# storage arrays\n",
    "si_ = np.zeros(H)\n",
    "D_  = np.zeros(H)\n",
    "G_  = np.zeros(H)\n",
    "Ob_ = np.zeros(H)\n",
    "U_  = np.zeros(H)\n",
    "\n",
    "# Vars\n",
    "# TODO: Initial Values\n",
    "G = m.CV(BG_dat[In], fixed_initial=True, lb=10, ub=400)    # (mg/dL) Blood Glucose\n",
    "X = m.Var(1,)      # (μu/ml) Remote Insulin\n",
    "I = m.Var(1,)      # (μu/ml) Plasma Insulin\n",
    "U = m.MV(.024,fixed_initial=True, lb=0)       # (mU/min) Insulin Delivery\n",
    "GG = m.Var(1,)     # (mg/dL) Gut insulin\n",
    "\n",
    "S1 = m.Var()     # Subcutaneous storage\n",
    "S2 = m.Var()     # Intermediate 2\n",
    "\n",
    "# obj = m.Var(0)\n",
    "\n",
    "# Equations\n",
    "m.Equations([\n",
    "    G.dt()/dt == -p1 * (G-bg) - si * X * G + f * kabs / vg * GG + f / vg * D,  # Dynamic Insulin Rate\n",
    "    X.dt()/dt == p2 * (I - X),                                                 # Remote Insulin dynamics\n",
    "    I.dt()/dt == -ke * I + U,                                                  # Plasma Insulin Concentration\n",
    "    S1.dt()/dt == U - kemp * S1,                                               # Dynamic Model\n",
    "    S2.dt()/dt == -kemp * (S2 - S1),                                           # Dynamic Model\n",
    "    GG.dt()/dt == kemp * S2 - kabs * GG,\n",
    "#     obj.dt() == m.if3(G-lb, -1 * lm, m.if3(ub-g, -1, 1.0 - m.tanh(m.abs3((G-target)/slope)*0.1)**2)) # m.integral(print(reward_func(G)[0]))\n",
    "])\n",
    "\n",
    "## Tuning\n",
    "si.STATUS = 1; si.FSTATUS = 0\n",
    "D.STATUS  = 1; D.FSTATUS  = 0\n",
    "D.DCOST=.001\n",
    "\n",
    "\n",
    "G.STATUS  = 0; G.FSTATUS  = 1\n",
    "U.STATUS  = 0; U.FSTATUS  = 1\n",
    "\n",
    "## Global options\n",
    "m.options.IMODE   = 5\n",
    "m.options.EV_TYPE = 2\n",
    "\n",
    "# m.Maximize(obj * fin)MHE"
   ]
  },
  {
   "cell_type": "code",
   "execution_count": null,
   "metadata": {
    "ExecuteTime": {
     "start_time": "2021-04-20T15:23:55.070Z"
    }
   },
   "outputs": [],
   "source": [
    "df = pd.read_csv('Parsed.csv')\n",
    "df_dense = df.dropna()\n",
    "En = int(In+H)\n",
    "i=1\n",
    "for date, time, glucose, insulin in df.iloc[In:En].itertuples(index=False):\n",
    "    if not np.isnan(glucose):\n",
    "        G.MEAS = glucose\n",
    "#     else:\n",
    "#         G.MEAS = G.value\n",
    "\n",
    "    U.MEAS = insulin\n",
    "    # solve with MHE\n",
    "#     print(G,U)\n",
    "    m.solve(disp=False)\n",
    "    # Store MHE values for basal glucose rate and disturbances\n",
    "#     print(f'{si.NEWVAL=}')\n",
    "#     print(f'{D.NEWVAL=}')\n",
    "#     print(f'{G.MODEL=} vs {glucose}')\n",
    "#     print(f'{U.NEWVAL=}')\n",
    "#     print(f'{m.options.OBJFCNVAL}\\n')\n",
    "    si_[i] = si.NEWVAL\n",
    "    D_[i]  = D.NEWVAL\n",
    "    U_[i]  = U.NEWVAL\n",
    "    G_[i]  = G.MODEL\n",
    "    Ob_[i] = m.options.OBJFCNVAL\n",
    "    i += 1"
   ]
  },
  {
   "cell_type": "code",
   "execution_count": null,
   "metadata": {
    "ExecuteTime": {
     "start_time": "2021-04-20T15:23:55.072Z"
    },
    "code_folding": [
     2
    ]
   },
   "outputs": [],
   "source": [
    "t_= np.linspace(0,1,N*h)*m.time[-1]*h/60\n",
    "BG_dat = df['Blood Glucose (mg/dL)'].values\n",
    "for i in range(len(BG_dat)):\n",
    "    if i==0:\n",
    "        BG_dat[i] = BG_dat[i+1]\n",
    "    elif np.isnan(BG_dat[i]):\n",
    "        BG_dat[i] = BG_dat[i-1]\n",
    "\n",
    "plt.figure(figsize=(15,14))\n",
    "fig = plt.gcf()\n",
    "fig.suptitle(\"Midnight-9:00AM\", fontsize=14)\n",
    "plt.subplot(621)\n",
    "plt.plot(t_, BG_dat[In:En], label='Data')\n",
    "plt.plot(t_,G_, label='Model')\n",
    "plt.ylabel('Blood Glucose')\n",
    "plt.legend()\n",
    "\n",
    "plt.subplot(622)\n",
    "# plt.plot(m.time,I)\n",
    "# plt.plot(m.time,X)\n",
    "# plt.plot(m.time,GG)\n",
    "plt.plot(t_,U_,label='Sim')\n",
    "plt.plot(t_,df['Insulin Delivery (IU) '][In:En], label='data')\n",
    "plt.ylabel('Insulin Delivery')\n",
    "plt.legend()\n",
    "\n",
    "plt.subplot(623)\n",
    "plt.plot(t_,D_)\n",
    "plt.ylabel('Estimated Disturbance')\n",
    "\n",
    "plt.subplot(624)\n",
    "s = np.zeros_like(si_)\n",
    "s[:180] = si_[180]\n",
    "s[180:360] = si_[360]\n",
    "s[360:] = si_[-1]\n",
    "plt.plot(t_,s)\n",
    "plt.plot(t_,si_)\n",
    "plt.ylabel('Estimated Sensitivity')\n",
    "\n",
    "plt.subplot(625)\n",
    "plt.plot(t_,Ob_)\n",
    "plt.ylabel('SSE Objective Value')\n",
    "plt.tight_layout()\n",
    "\n",
    "plt.savefig('Midnight-9:00AM_DAY4.png')"
   ]
  },
  {
   "cell_type": "code",
   "execution_count": null,
   "metadata": {
    "ExecuteTime": {
     "start_time": "2021-04-20T15:23:55.075Z"
    }
   },
   "outputs": [],
   "source": [
    "t0 = np.linspace(0,1,n)*m.time[-1]*h\n",
    "plt.plot(t_,G_)\n",
    "plt.plot(t0, BG[:n], label='Data')\n",
    "T = df['Time']\n",
    "Tn = np.zeros_like(T)\n",
    "for i in range(len(T)):\n",
    "    pt = datetime.strptime(T[i],'%H:%M:%S')\n",
    "    A  = pt.minute+pt.hour*60\n",
    "    Tn[i] = A\n",
    "print(len(Tn))\n",
    "df.columns\n"
   ]
  },
  {
   "cell_type": "code",
   "execution_count": null,
   "metadata": {
    "ExecuteTime": {
     "start_time": "2021-04-20T15:23:55.078Z"
    }
   },
   "outputs": [],
   "source": [
    "plt.plot(t_,si_)\n",
    "plt.plot((360+m.time)/60,si)"
   ]
  },
  {
   "cell_type": "code",
   "execution_count": null,
   "metadata": {
    "ExecuteTime": {
     "start_time": "2021-04-20T15:23:55.082Z"
    }
   },
   "outputs": [],
   "source": [
    "BG[540]"
   ]
  },
  {
   "cell_type": "code",
   "execution_count": null,
   "metadata": {
    "ExecuteTime": {
     "start_time": "2021-04-20T15:23:55.084Z"
    }
   },
   "outputs": [],
   "source": [
    "En"
   ]
  },
  {
   "cell_type": "code",
   "execution_count": null,
   "metadata": {},
   "outputs": [],
   "source": []
  }
 ],
 "metadata": {
  "hide_input": false,
  "kernelspec": {
   "display_name": "Python 3",
   "language": "python",
   "name": "python3"
  },
  "language_info": {
   "codemirror_mode": {
    "name": "ipython",
    "version": 3
   },
   "file_extension": ".py",
   "mimetype": "text/x-python",
   "name": "python",
   "nbconvert_exporter": "python",
   "pygments_lexer": "ipython3",
   "version": "3.8.5"
  },
  "latex_envs": {
   "LaTeX_envs_menu_present": true,
   "autoclose": true,
   "autocomplete": false,
   "bibliofile": "biblio.bib",
   "cite_by": "apalike",
   "current_citInitial": 1,
   "eqLabelWithNumbers": false,
   "eqNumInitial": 1,
   "hotkeys": {
    "equation": "Ctrl-E",
    "itemize": "Ctrl-I"
   },
   "labels_anchors": false,
   "latex_user_defs": false,
   "report_style_numbering": false,
   "user_envs_cfg": false
  },
  "notify_time": "0",
  "varInspector": {
   "cols": {
    "lenName": 16,
    "lenType": 16,
    "lenVar": 40
   },
   "kernels_config": {
    "python": {
     "delete_cmd_postfix": "",
     "delete_cmd_prefix": "del ",
     "library": "var_list.py",
     "varRefreshCmd": "print(var_dic_list())"
    },
    "r": {
     "delete_cmd_postfix": ") ",
     "delete_cmd_prefix": "rm(",
     "library": "var_list.r",
     "varRefreshCmd": "cat(var_dic_list()) "
    }
   },
   "position": {
    "height": "144px",
    "left": "345px",
    "right": "20px",
    "top": "120px",
    "width": "350px"
   },
   "types_to_exclude": [
    "module",
    "function",
    "builtin_function_or_method",
    "instance",
    "_Feature"
   ],
   "window_display": false
  }
 },
 "nbformat": 4,
 "nbformat_minor": 4
}
